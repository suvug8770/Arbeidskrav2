{
 "cells": [
  {
   "cell_type": "code",
   "execution_count": null,
   "metadata": {},
   "outputs": [],
   "source": [
    "# Global import\n",
    "import numpy"
   ]
  },
  {
   "cell_type": "code",
   "execution_count": null,
   "metadata": {},
   "outputs": [],
   "source": [
    "# Oppgave 1\n",
    "\n",
    "alder = int(input('Hvilket år er du født? ')) \n",
    "print('Du blir ' + str(2024-alder) + ' år i 2024')"
   ]
  },
  {
   "cell_type": "code",
   "execution_count": null,
   "metadata": {},
   "outputs": [],
   "source": [
    "# Oppgave 2\n",
    "antall_elever = int(input('Skriv inn antall elever:' )) \n",
    "pizza_pr_elev = 1/4\n",
    "\n",
    "print(f'Det må handles inn {(numpy.ceil(antall_elever*pizza_pr_elev)):.0f} pizzaer')"
   ]
  },
  {
   "cell_type": "code",
   "execution_count": null,
   "metadata": {},
   "outputs": [],
   "source": [
    "# Oppgave 3\n",
    "v_grad = float(input('Skriv inn gradtallet:' ))\n",
    "v_rad = v_grad*numpy.pi/180 \n",
    "\n",
    "print(f'Radiantallet til vinkelen er {v_rad:.2f}')"
   ]
  },
  {
   "cell_type": "code",
   "execution_count": null,
   "metadata": {},
   "outputs": [],
   "source": [
    "# Oppgave 4\n",
    "# a\n",
    "dictionary = {\n",
    "              'Norge' : ['Oslo', 0.634],\n",
    "              'England': ['London', 8.982],\n",
    "              'Frankrike': ['Paris', 2.161],\n",
    "              'Italia': ['Roma', 2.873]\n",
    "              }\n",
    "\n",
    "# b\n",
    "land = input('Skriv inn landet du ønsker info om?')\n",
    "hovedstad = dictionary[land][0]\n",
    "folketall = dictionary[land][1]\n",
    "\n",
    "print(f'{hovedstad} er hovedstaden i {land} og det er {folketall} mill. innbyggere i {hovedstad}.')\n",
    "\n",
    "# c\n",
    "nytt_land = input('Skriv inn landet du ønsker å oppgi info om?')\n",
    "ny_hovestad = input(f'Skriv inn hovedstaden til {nytt_land}?')\n",
    "nytt_folketall = input(f'Skriv inn folketallet i {ny_hovestad}?')\n",
    "\n",
    "dictionary[nytt_land] = [ny_hovestad, float(nytt_folketall)]\n",
    "\n",
    "print(dictionary)\n"
   ]
  }
 ],
 "metadata": {
  "kernelspec": {
   "display_name": "Python 3",
   "language": "python",
   "name": "python3"
  },
  "language_info": {
   "codemirror_mode": {
    "name": "ipython",
    "version": 3
   },
   "file_extension": ".py",
   "mimetype": "text/x-python",
   "name": "python",
   "nbconvert_exporter": "python",
   "pygments_lexer": "ipython3",
   "version": "3.13.0"
  }
 },
 "nbformat": 4,
 "nbformat_minor": 2
}
